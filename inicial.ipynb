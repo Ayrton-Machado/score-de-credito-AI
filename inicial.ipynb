{
 "cells": [
  {
   "cell_type": "markdown",
   "metadata": {},
   "source": [
    "# Projeto Python IA: Inteligência Artificial e Previsões\n",
    "\n",
    "### Case: Score de Crédito dos Clientes\n",
    "\n",
    "Análise de todos os clientes e, com base nessa análise, cria um modelo que consiga ler as informações do cliente e dizer automaticamente o score de crédito dele: Ruim, Ok, Bom"
   ]
  },
  {
   "cell_type": "code",
   "execution_count": null,
   "metadata": {},
   "outputs": [],
   "source": [
    "#passo 1: importar base de dados\n",
    "#passo 2: codificar itens para leitura da ia\n",
    "#passo 3: treinar ia\n",
    "#passo 4: escolher e configurar modelos\n",
    "#passo 5: escolher a com melhor accuracy\n",
    "\n",
    "import pandas as pd\n",
    "\n",
    "#Importando base de dados\n",
    "tabela = pd.read_csv('clientes.csv')\n",
    "display(tabela)\n",
    "display(tabela.info())"
   ]
  },
  {
   "cell_type": "code",
   "execution_count": null,
   "metadata": {},
   "outputs": [],
   "source": [
    "#Preparando base para a ia\n",
    "\n",
    "from sklearn.preprocessing import LabelEncoder\n",
    "\n",
    "#transformando os itens em numeros para que a ia possa ''entender'' \n",
    "codificador = LabelEncoder()\n",
    "for column in tabela.columns:\n",
    "    if tabela[column].dtype == 'object' and column != 'score_credito':\n",
    "        tabela[column] = codificador.fit_transform(tabela[column])\n",
    "\n",
    "#verificando tabela\n",
    "display(tabela.info())"
   ]
  },
  {
   "cell_type": "code",
   "execution_count": null,
   "metadata": {},
   "outputs": [],
   "source": [
    "#declarando variaveis da ia e excluindo colunas inuteis para a previsao\n",
    "from sklearn.model_selection import train_test_split\n",
    "y = tabela['score_credito']\n",
    "x = tabela.drop(columns=['id_cliente', 'score_credito'])\n",
    "\n",
    "#separando dados de treino e teste\n",
    "x_treino, x_teste, y_treino, y_teste = train_test_split(x,y)"
   ]
  },
  {
   "cell_type": "code",
   "execution_count": null,
   "metadata": {},
   "outputs": [],
   "source": [
    "#escolhendo modelos da IA\n",
    "from sklearn.ensemble import RandomForestClassifier\n",
    "from sklearn.neighbors import KNeighborsClassifier\n",
    "\n",
    "#treinando modelos da ia\n",
    "tree_model = RandomForestClassifier()\n",
    "neighbors_model = KNeighborsClassifier()\n",
    "\n",
    "tree_model.fit(x_treino, y_treino)\n",
    "neighbors_model.fit(x_treino, y_treino)"
   ]
  },
  {
   "cell_type": "code",
   "execution_count": null,
   "metadata": {},
   "outputs": [],
   "source": [
    "#testando inteligencia da ia\n",
    "from sklearn.metrics import accuracy_score\n",
    "\n",
    "treeModel_results = tree_model.predict(x_teste)\n",
    "neighborsModel_results = neighbors_model.predict(x_teste)\n",
    "\n",
    "#precisao de acerto de cada modelo\n",
    "print(accuracy_score(y_teste, treeModel_results))\n",
    "print(accuracy_score(y_teste, neighborsModel_results))"
   ]
  },
  {
   "cell_type": "code",
   "execution_count": null,
   "metadata": {},
   "outputs": [],
   "source": [
    "#fazendo a previsao de novos clientes\n",
    "novos_clientes = pd.read_csv('novos_clientes.csv')\n",
    "display(novos_clientes)\n",
    "\n",
    "#transformando dados para entendimento da ia\n",
    "for column in novos_clientes.columns:\n",
    "    if novos_clientes[column].dtype == 'object' and column != 'score_credito':\n",
    "        novos_clientes[column] = codificador.fit_transform(novos_clientes[column])\n",
    "\n",
    "#previsoes do melhor modelo\n",
    "results = tree_model.predict(novos_clientes)\n",
    "print(results)\n"
   ]
  }
 ],
 "metadata": {
  "kernelspec": {
   "display_name": "Python 3",
   "language": "python",
   "name": "python3"
  },
  "language_info": {
   "codemirror_mode": {
    "name": "ipython",
    "version": 3
   },
   "file_extension": ".py",
   "mimetype": "text/x-python",
   "name": "python",
   "nbconvert_exporter": "python",
   "pygments_lexer": "ipython3",
   "version": "3.13.5"
  },
  "orig_nbformat": 4
 },
 "nbformat": 4,
 "nbformat_minor": 2
}
